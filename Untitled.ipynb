{
 "cells": [
  {
   "cell_type": "code",
   "execution_count": 1,
   "id": "4de74a57",
   "metadata": {},
   "outputs": [
    {
     "name": "stdout",
     "output_type": "stream",
     "text": [
      "Beginning Data Retrieval     \n",
      "-----------------------------\n"
     ]
    },
    {
     "ename": "NameError",
     "evalue": "name 'cities' is not defined",
     "output_type": "error",
     "traceback": [
      "\u001b[0;31m---------------------------------------------------------------------------\u001b[0m",
      "\u001b[0;31mNameError\u001b[0m                                 Traceback (most recent call last)",
      "\u001b[0;32m<ipython-input-1-8f9ee0f85aaf>\u001b[0m in \u001b[0;36m<module>\u001b[0;34m\u001b[0m\n\u001b[1;32m      8\u001b[0m \u001b[0mset_count\u001b[0m \u001b[0;34m=\u001b[0m \u001b[0;36m1\u001b[0m\u001b[0;34m\u001b[0m\u001b[0;34m\u001b[0m\u001b[0m\n\u001b[1;32m      9\u001b[0m \u001b[0;31m# 2. Loop through all the cities in the list.\u001b[0m\u001b[0;34m\u001b[0m\u001b[0;34m\u001b[0m\u001b[0;34m\u001b[0m\u001b[0m\n\u001b[0;32m---> 10\u001b[0;31m \u001b[0;32mfor\u001b[0m \u001b[0mi\u001b[0m\u001b[0;34m,\u001b[0m \u001b[0mcity\u001b[0m \u001b[0;32min\u001b[0m \u001b[0menumerate\u001b[0m\u001b[0;34m(\u001b[0m\u001b[0mcities\u001b[0m\u001b[0;34m)\u001b[0m\u001b[0;34m:\u001b[0m\u001b[0;34m\u001b[0m\u001b[0;34m\u001b[0m\u001b[0m\n\u001b[0m\u001b[1;32m     11\u001b[0m    \u001b[0;31m# 3. Group cities in sets of 50 for logging purposes.\u001b[0m\u001b[0;34m\u001b[0m\u001b[0;34m\u001b[0m\u001b[0;34m\u001b[0m\u001b[0m\n\u001b[1;32m     12\u001b[0m    \u001b[0;32mif\u001b[0m \u001b[0;34m(\u001b[0m\u001b[0mi\u001b[0m \u001b[0;34m%\u001b[0m \u001b[0;36m50\u001b[0m \u001b[0;34m==\u001b[0m \u001b[0;36m0\u001b[0m \u001b[0;32mand\u001b[0m \u001b[0mi\u001b[0m \u001b[0;34m>=\u001b[0m \u001b[0;36m50\u001b[0m\u001b[0;34m)\u001b[0m\u001b[0;34m:\u001b[0m\u001b[0;34m\u001b[0m\u001b[0;34m\u001b[0m\u001b[0m\n",
      "\u001b[0;31mNameError\u001b[0m: name 'cities' is not defined"
     ]
    }
   ],
   "source": [
    "# 1b. create empty list\n",
    "city_data = []\n",
    "# Print the beginning of the logging.\n",
    "print(\"Beginning Data Retrieval     \")\n",
    "print(\"-----------------------------\")\n",
    "# Create counters.\n",
    "record_count = 1\n",
    "set_count = 1\n",
    "# 2. Loop through all the cities in the list.\n",
    "for i, city in enumerate(cities):\n",
    "   # 3. Group cities in sets of 50 for logging purposes.\n",
    "   if (i % 50 == 0 and i >= 50):\n",
    "       set_count += 1\n",
    "       record_count = 1\n",
    "       time.sleep(60)\n",
    "   # 4. Create endpoint URL with each city.\n",
    "   city_url = url + \"&q=\" + city.replace(\" \",\"+\")\n",
    "   # 5. Log the URL, record, and set numbers and the city.\n",
    "   print(f\"Processing Record {record_count} of Set {set_count} | {city}\")\n",
    "   # Add 1 to the record count.\n",
    "   record_count += 1\n",
    "   # 6. Run an API request for each of the cities.\n",
    "try:\n",
    "       # 7. Parse the JSON and retrieve data.\n",
    "       city_weather = requests.get(city_url).json()\n",
    "       # Parse out the needed data.\n",
    "       city_lat = city_weather[\"coord\"][\"lat\"]\n",
    "       city_lng = city_weather[\"coord\"][\"lon\"]\n",
    "       city_max_temp = city_weather[\"main\"][\"temp_max\"]\n",
    "       city_humidity = city_weather[\"main\"][\"humidity\"]\n",
    "       city_clouds = city_weather[\"clouds\"][\"all\"]\n",
    "       city_wind = city_weather[\"wind\"][\"speed\"]\n",
    "       city_country = city_weather[\"sys\"][\"country\"]\n",
    "       # Convert the date to ISO standard.\n",
    "       city_date = datetime.utcfromtimestamp(city_weather[\"dt\"]).strftime('%Y-%m-%d %H:%M:%S')\n",
    "       # Append the city information into city_data list.\n",
    "       city_data.append({\"City\": city.title(),\n",
    "                         \"Lat\": city_lat,\n",
    "                         \"Lng\": city_lng,\n",
    "                         \"Max Temp\": city_max_temp,\n",
    "                         \"Humidity\": city_humidity,\n",
    "                         \"Cloudiness\": city_clouds,\n",
    "                         \"Wind Speed\": city_wind,\n",
    "                         \"Country\": city_country,\n",
    "                         \"Date\": city_date})\n",
    "# If an error is experienced, skip the city.\n",
    "except:\n",
    "       print(\"City not found. Skipping...\")\n",
    "       pass\n",
    "# Indicate that Data Loading is complete.\n",
    "print(\"-----------------------------\")\n",
    "print(\"Data Retrieval Complete      \")\n",
    "print(\"-----------------------------\")\n",
    "len(city_data)\n",
    "city_data\n"
   ]
  },
  {
   "cell_type": "code",
   "execution_count": null,
   "id": "18dd292e",
   "metadata": {},
   "outputs": [],
   "source": []
  }
 ],
 "metadata": {
  "kernelspec": {
   "display_name": "PythonData",
   "language": "python",
   "name": "pythondata"
  },
  "language_info": {
   "codemirror_mode": {
    "name": "ipython",
    "version": 3
   },
   "file_extension": ".py",
   "mimetype": "text/x-python",
   "name": "python",
   "nbconvert_exporter": "python",
   "pygments_lexer": "ipython3",
   "version": "3.8.8"
  }
 },
 "nbformat": 4,
 "nbformat_minor": 5
}
